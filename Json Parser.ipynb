{
 "cells": [
  {
   "cell_type": "code",
   "execution_count": 1,
   "metadata": {
    "collapsed": true
   },
   "outputs": [],
   "source": [
    "import cv2\n",
    "import numpy as np\n",
    "import json\n",
    "from PIL import Image"
   ]
  },
  {
   "cell_type": "code",
   "execution_count": 2,
   "metadata": {
    "collapsed": true
   },
   "outputs": [],
   "source": [
    "#load json file as exported  from Labelbox.\n",
    "\n",
    "path = '../Downloads/export-2019-06-23T21_23_14.787Z.json'\n",
    "\n",
    "with open(path) as handle:\n",
    "    data = json.load(handle)"
   ]
  },
  {
   "cell_type": "code",
   "execution_count": 3,
   "metadata": {
    "collapsed": true
   },
   "outputs": [],
   "source": [
    "# Iterate through the cell object dictionary which contains lists of coordinates that will later be used to draw polygons\n",
    "list_coord= []\n",
    "\n",
    "# data[0] in the for loop iterates through coordinates of the first image. data[1], for example, iterates through coordinates\n",
    "# belonging to the second image\n",
    "for cell in data[0]['Label']['Cell']:\n",
    "    points = []\n",
    "    for point in cell['geometry']:\n",
    "        points.append([point['x'],point['y']])\n",
    "    list_coord.append(points)"
   ]
  },
  {
   "cell_type": "code",
   "execution_count": 4,
   "metadata": {
    "collapsed": true
   },
   "outputs": [],
   "source": [
    "# Convert each list of coordinates corresponding to one polygon into a list of arrays\n",
    "list_array = []\n",
    "\n",
    "for cell in list_coord:\n",
    "    array = np.array(cell)\n",
    "    list_array.append(array)"
   ]
  },
  {
   "cell_type": "code",
   "execution_count": 52,
   "metadata": {},
   "outputs": [
    {
     "ename": "ZeroDivisionError",
     "evalue": "float division by zero",
     "output_type": "error",
     "traceback": [
      "\u001b[1;31m---------------------------------------------------------------------------\u001b[0m",
      "\u001b[1;31mZeroDivisionError\u001b[0m                         Traceback (most recent call last)",
      "\u001b[1;32m<ipython-input-52-d0f81544f2f6>\u001b[0m in \u001b[0;36m<module>\u001b[1;34m()\u001b[0m\n\u001b[0;32m     32\u001b[0m     \u001b[0mhull\u001b[0m \u001b[1;33m=\u001b[0m \u001b[0mcv2\u001b[0m\u001b[1;33m.\u001b[0m\u001b[0mconvexHull\u001b[0m\u001b[1;33m(\u001b[0m\u001b[0mpolygon_array\u001b[0m\u001b[1;33m)\u001b[0m\u001b[1;33m\u001b[0m\u001b[0m\n\u001b[0;32m     33\u001b[0m     \u001b[0mhull_area\u001b[0m \u001b[1;33m=\u001b[0m \u001b[0mcv2\u001b[0m\u001b[1;33m.\u001b[0m\u001b[0mcontourArea\u001b[0m\u001b[1;33m(\u001b[0m\u001b[0mhull\u001b[0m\u001b[1;33m)\u001b[0m\u001b[1;33m\u001b[0m\u001b[0m\n\u001b[1;32m---> 34\u001b[1;33m     \u001b[0msolidity\u001b[0m \u001b[1;33m=\u001b[0m \u001b[0mfloat\u001b[0m\u001b[1;33m(\u001b[0m\u001b[0marea\u001b[0m\u001b[1;33m)\u001b[0m\u001b[1;33m/\u001b[0m\u001b[0mhull_area\u001b[0m\u001b[1;33m\u001b[0m\u001b[0m\n\u001b[0m\u001b[0;32m     35\u001b[0m     \u001b[0ml\u001b[0m\u001b[1;33m.\u001b[0m\u001b[0mappend\u001b[0m\u001b[1;33m(\u001b[0m\u001b[0msolidity\u001b[0m\u001b[1;33m)\u001b[0m\u001b[1;33m\u001b[0m\u001b[0m\n\u001b[0;32m     36\u001b[0m \u001b[1;33m\u001b[0m\u001b[0m\n",
      "\u001b[1;31mZeroDivisionError\u001b[0m: float division by zero"
     ]
    }
   ],
   "source": [
    "# Extract morphological data of each polygon\n",
    "# Structure: [[area, perimeter, convexity, fit cirlce, fit rectangle,\n",
    "# aspect_ratio, solidity, extent, equivalent diameter, mean color intensity], [....], [...],.....]\n",
    "morph_data = []\n",
    "\n",
    "for polygon_array in list_array:\n",
    "    l = []\n",
    "    \n",
    "    area1 = cv2.contourArea(polygon_array)\n",
    "    l.append(area)\n",
    "    \n",
    "    perimeter = cv2.arcLength(polygon_array,True)\n",
    "    l.append(perimeter)\n",
    "    \n",
    "    k = cv2.isContourConvex(polygon_array)\n",
    "    l.append(k)\n",
    "    \n",
    "    (x,y),radius = cv2.minEnclosingCircle(polygon_array)\n",
    "    center = (int(x),int(y))\n",
    "    radius = int(radius)\n",
    "    tup = [center, radius]\n",
    "    l.append(tup)\n",
    "    \n",
    "    rect = cv2.minAreaRect(polygon_array)\n",
    "    l.append(rect)\n",
    "    \n",
    "    x,y,w,h = cv2.boundingRect(polygon_array)\n",
    "    aspect_ratio = float(w)/h\n",
    "    l.append(aspect_ratio)\n",
    "    \n",
    "    area2 = cv2.contourArea(polygon_array)\n",
    "    hull = cv2.convexHull(polygon_array)\n",
    "    hull_area = cv2.contourArea(hull)\n",
    "    solidity = float(area)/hull_area\n",
    "    l.append(solidity)\n",
    "    \n",
    "    #area3 = cv2.contourArea(polygon_array)\n",
    "    #x,y,w,h = cv2.boundingRect(polygon_array)\n",
    "    #rect_area = w*h\n",
    "    #extent = float(area)/rect_area\n",
    "    #l.append(extent)\n",
    "    \n",
    "    area = cv2.contourArea(polygon_array)\n",
    "    equi_diameter = np.sqrt(4*area/np.pi)\n",
    "    l.append(equi_diameter)\n",
    "    \n",
    "    \n",
    "    #mean_val = cv2.mean(im, polygon_array)\n",
    "    #l.append(mean_val)\n",
    "    \n",
    "    \n",
    "    morph_data.append(l)\n",
    "    \n",
    "    #ellipse = cv2.fitEllipse(polygon_array)\n",
    "    #l.append(ellipse)\n",
    "    \n",
    "    \n",
    "    \n",
    "# Run the following lines if you wish to display polygon(s).\n",
    "\n",
    "#blank_image = np.zeros(shape=[1024, 1366, 3], dtype=np.uint8)    \n",
    "#cv2.polylines(blank_image, list_array[0], 2, (255,255,255))\n",
    "#winname = 'Polygon'\n",
    "#cv2.namedWindow(winname)\n",
    "#cv2.imshow('winname', blank_image)\n",
    "#cv2.waitKey()\n",
    "#cv2.destroyWindow(winname)\n",
    "\n",
    "# Run the following line if you wish to save the displayed image on your computer as a png\n",
    "#cv2.imwrite('blank_image04.png',blank_image)"
   ]
  },
  {
   "cell_type": "code",
   "execution_count": null,
   "metadata": {
    "collapsed": true
   },
   "outputs": [],
   "source": [
    "# Reads a csv file that will be used to store morphological data\n",
    "with open('Morph_test.csv', 'r') as in:\n",
    "    reader = csv.reader(in)\n",
    "    # read file row by row\n",
    "    for row in reader:\n",
    "        print (row)\n",
    "in.close()"
   ]
  },
  {
   "cell_type": "code",
   "execution_count": null,
   "metadata": {
    "collapsed": true
   },
   "outputs": [],
   "source": [
    "# Writes previously extracted morphological data to the selected csv file\n",
    "with open('Morph_test.csv', 'w', newline='') as out:\n",
    "    writer = csv.writer(out)\n",
    "    #each row will correspond to all morphological data that describes a single cell\n",
    "    for cell_data in morph_data:\n",
    "        writer.writerow(cell_data)\n",
    "\n",
    "\n",
    "out.close()"
   ]
  },
  {
   "cell_type": "code",
   "execution_count": null,
   "metadata": {
    "collapsed": true
   },
   "outputs": [],
   "source": [
    "# Draw labels on a blank background\n",
    "\n",
    "blank_image = np.zeros(shape=[1024, 1366, 3], dtype=np.uint8)\n",
    "\n",
    "# list_array[0] will only include coordinates of polygons that belong to the first image. list_array[1], for instance,\n",
    "# will draw labels for the second image.\n",
    "cv2.polylines(blank_image, list_array, 2, (255,255,255))\n",
    "\n",
    "\n",
    "winname = 'labels'\n",
    "cv2.namedWindow(winname)\n",
    "cv2.imshow('winname', blank_image)\n",
    "cv2.waitKey()\n",
    "cv2.destroyAllWindows(winname)"
   ]
  },
  {
   "cell_type": "code",
   "execution_count": null,
   "metadata": {
    "collapsed": true
   },
   "outputs": [],
   "source": [
    "#Saves generated labels to your computer\n",
    "cv2.imwrite('img_01.png',blank_image)"
   ]
  }
 ],
 "metadata": {
  "kernelspec": {
   "display_name": "Python 3",
   "language": "python",
   "name": "python3"
  },
  "language_info": {
   "codemirror_mode": {
    "name": "ipython",
    "version": 3
   },
   "file_extension": ".py",
   "mimetype": "text/x-python",
   "name": "python",
   "nbconvert_exporter": "python",
   "pygments_lexer": "ipython3",
   "version": "3.6.1"
  }
 },
 "nbformat": 4,
 "nbformat_minor": 2
}
