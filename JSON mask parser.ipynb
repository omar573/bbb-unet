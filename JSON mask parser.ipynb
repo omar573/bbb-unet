{
 "cells": [
  {
   "cell_type": "code",
   "execution_count": null,
   "metadata": {
    "colab": {},
    "colab_type": "code",
    "id": "CABqZWA2Y3tO"
   },
   "outputs": [],
   "source": [
    "import cv2\n",
    "import csv\n",
    "import os\n",
    "import json\n",
    "import numpy as np"
   ]
  },
  {
   "cell_type": "code",
   "execution_count": null,
   "metadata": {
    "colab": {},
    "colab_type": "code",
    "id": "74WgPW3WY3tW"
   },
   "outputs": [],
   "source": [
    "from copy import deepcopy"
   ]
  },
  {
   "cell_type": "code",
   "execution_count": null,
   "metadata": {
    "colab": {},
    "colab_type": "code",
    "id": "Zc5RufN6Y3tb"
   },
   "outputs": [],
   "source": [
    "#load json file containing generated masks by Unet.\n",
    "\n",
    "path = '../Downloads/drexel project/unet/masks/generated masks Unet/export-2019-07-08T17_21_55.768Z.json'\n",
    "\n",
    "with open(path) as handle:\n",
    "    data = json.load(handle)"
   ]
  },
  {
   "cell_type": "code",
   "execution_count": null,
   "metadata": {
    "colab": {},
    "colab_type": "code",
    "id": "e5YshASaY3tg"
   },
   "outputs": [],
   "source": [
    "# The output should be equal to the total number of labeled images.\n",
    "len(list_coord)"
   ]
  },
  {
   "cell_type": "code",
   "execution_count": null,
   "metadata": {
    "colab": {},
    "colab_type": "code",
    "id": "4mLhdozzY3ti",
    "scrolled": true
   },
   "outputs": [],
   "source": [
    "# Iterate through the cell object dictionary which contains lists of coordinates that will later be used \n",
    "# to draw polygons\n",
    "list_coord= []\n",
    "\n",
    "# data[0] in the for loop iterates through coordinates of the first image. data[1], for example, iterates through \n",
    "# coordinates belonging to the second image\n",
    "# The variables x and y refer to the tradional (x,y) coordinate system.\n",
    "\n",
    "q = -1\n",
    "\n",
    "for _ in range(len(data)):\n",
    "    \n",
    "    q += 1\n",
    "    for cell in data[q]['Label']['Cell']:\n",
    "        points = []\n",
    "        x = 0\n",
    "        y = 0\n",
    "        for point in cell['geometry']:\n",
    "            p = []\n",
    "            x = point['x']\n",
    "            y = point['y']\n",
    "            p.append(x)\n",
    "            p.append(y)\n",
    "            points.append(p)\n",
    "        list_coord.append(points)\n",
    "    \n",
    "print(list_coord)"
   ]
  },
  {
   "cell_type": "code",
   "execution_count": null,
   "metadata": {
    "colab": {},
    "colab_type": "code",
    "id": "Z4KSgkPgY3tm",
    "outputId": "03edbe63-7396-4c87-da9c-0c156d825c0c"
   },
   "outputs": [
    {
     "data": {
      "text/plain": [
       "2226"
      ]
     },
     "execution_count": 4,
     "metadata": {
      "tags": []
     },
     "output_type": "execute_result"
    }
   ],
   "source": [
    "# The output should be equal to the total number of labeled cells.\n",
    "len(list_coord)"
   ]
  },
  {
   "cell_type": "code",
   "execution_count": null,
   "metadata": {
    "colab": {},
    "colab_type": "code",
    "id": "84aGyHTaY3to"
   },
   "outputs": [],
   "source": [
    "# Parse through the name of each picture to extract information like frame number, type of treatment, and amount  \n",
    "# which act as column titles.\n",
    "\n",
    "column_Names_list = []\n",
    "counter = -1\n",
    "for _ in range(len(data)):\n",
    "    counter += 1\n",
    "    column_titles = 0\n",
    "    column_titles = data[counter]['Labeled Data']\n",
    "    column_titles_splt = 0\n",
    "    column_titles_splt = column_titles.split('_')\n",
    "    column_Names_list.append(column_titles_splt)"
   ]
  },
  {
   "cell_type": "code",
   "execution_count": null,
   "metadata": {
    "colab": {},
    "colab_type": "code",
    "id": "15HLeSUYY3tr"
   },
   "outputs": [],
   "source": [
    "#\n",
    "creator = []\n",
    "user = 0\n",
    "n = -1\n",
    "for _ in range(len(data)):\n",
    "    n += 1\n",
    "    user = 0\n",
    "    user = data[n]['Created By']\n",
    "    if user == 'NAME1':\n",
    "        user = 'Person1'\n",
    "    elif user == 'NAME2':\n",
    "        user = 'Person2'\n",
    "    elif user == 'NAME3':\n",
    "        user = 'Person3'\n",
    "    elif user == 'Name4':\n",
    "        user = 'Person3'\n",
    "    creator.append([user])"
   ]
  },
  {
   "cell_type": "code",
   "execution_count": null,
   "metadata": {
    "colab": {},
    "colab_type": "code",
    "id": "1OIjjDvgY3tt"
   },
   "outputs": [],
   "source": [
    "# Converts each list of coordinates corresponding to one polygon into a list of arrays\n",
    "\n",
    "list_array = []\n",
    "array = 0\n",
    "\n",
    "for cell in list_coord:\n",
    "    array = 0\n",
    "    array = np.array(cell)\n",
    "    list_array.append(array)\n",
    "print(list_array)"
   ]
  },
  {
   "cell_type": "code",
   "execution_count": null,
   "metadata": {
    "colab": {},
    "colab_type": "code",
    "id": "UbZ6SqpJY3tx"
   },
   "outputs": [],
   "source": [
    "l = []\n",
    "morph_data = []\n",
    "final_morph = []\n",
    "\n",
    "\n",
    "for polygon_array in list_array:\n",
    "    l = []\n",
    "    \n",
    "    area1 = 0\n",
    "    # Calculate area of each given cell \n",
    "    area1 = cv2.contourArea(polygon_array)\n",
    "    l.append(area1)\n",
    "    \n",
    "    perimeter = 0\n",
    "    # Calculate perimeter for each given cell\n",
    "    perimeter = cv2.arcLength(polygon_array,True)\n",
    "    l.append(perimeter)\n",
    "    \n",
    "    x, y, w, h = 0, 0, 0, 0\n",
    "    x,y,w,h = cv2.boundingRect(polygon_array)\n",
    "    aspect_ratio = 0\n",
    "    aspect_ratio = float(w)/h\n",
    "    l.append(aspect_ratio)\n",
    "    \n",
    "    area3 = 0\n",
    "    area3 = cv2.contourArea(polygon_array)\n",
    "    x,y,w,h = 0,0,0,0\n",
    "    x,y,w,h = cv2.boundingRect(polygon_array)\n",
    "    rect_area = 0\n",
    "    rect_area = w*h\n",
    "    extent = 0\n",
    "    extent = float(area3)/rect_area\n",
    "    l.append(extent)\n",
    "    \n",
    "    area = 0\n",
    "    equi_diameter = 0\n",
    "    area = cv2.contourArea(polygon_array)\n",
    "    equi_diameter = np.sqrt(4*area/np.pi)\n",
    "    l.append(equi_diameter)\n",
    "    \n",
    "    \n",
    "    morph_data.append(l)\n",
    "    \n",
    "\n",
    "# This loop brings the organization of the whole data set together by matching cell columns and rows \n",
    "\n",
    "f = 0\n",
    "a = -1\n",
    "b = -1\n",
    "for _ in range(len(data)):\n",
    "    a += 1\n",
    "    f = 0\n",
    "    try:\n",
    "        f = 0\n",
    "        for _ in range(len(data[a]['Label']['Cell'])):\n",
    "            b +=1\n",
    "            f = 0\n",
    "            q = 0\n",
    "            v = 0\n",
    "            c = 0\n",
    "            q = creator[a]\n",
    "            v = str_list[a]\n",
    "            c = morph_data[b]\n",
    "            f = q + v + c \n",
    "            final_morph.append(f)\n",
    "    except:\n",
    "        pass"
   ]
  },
  {
   "cell_type": "code",
   "execution_count": null,
   "metadata": {
    "colab": {},
    "colab_type": "code",
    "id": "vjIiFOC2Y3t1",
    "outputId": "830d1231-fd98-4bd4-af54-c971bd4604fc"
   },
   "outputs": [
    {
     "name": "stdout",
     "output_type": "stream",
     "text": [
      "['ï»¿Cell Number', 'Labeled By', 'Treatment', 'Amount', 'Frame', 'Area', 'Perimeter', 'Aspect Ratio', 'Extent', 'Equivalent Diameter']\n"
     ]
    }
   ],
   "source": [
    "# Reads a csv file that will be used to store morphological data into a data frame\n",
    "\n",
    "with open('cell data.csv', 'r') as f:\n",
    "    reader = csv.reader(f)\n",
    "    # read file row by row\n",
    "    for row in reader:\n",
    "        print (row)\n",
    "f.close()"
   ]
  },
  {
   "cell_type": "code",
   "execution_count": null,
   "metadata": {
    "colab": {},
    "colab_type": "code",
    "id": "uz8tvTagY3t3"
   },
   "outputs": [],
   "source": [
    "# Writes previously extracted and stored morphological data to the selected csv file\n",
    "with open('cell data.csv', 'w', newline='') as out:\n",
    "    writer = csv.writer(out)\n",
    "    #each row will correspond to all morphological data belonging to a single cell\n",
    "    n = -1\n",
    "    for w in final_morph:\n",
    "        writer.writerow(w)\n",
    "\n",
    "out.close()"
   ]
  }
 ],
 "metadata": {
  "colab": {
   "collapsed_sections": [],
   "name": "Json_parser_V2.ipynb",
   "provenance": []
  },
  "kernelspec": {
   "display_name": "Python 3",
   "language": "python",
   "name": "python3"
  },
  "language_info": {
   "codemirror_mode": {
    "name": "ipython",
    "version": 3
   },
   "file_extension": ".py",
   "mimetype": "text/x-python",
   "name": "python",
   "nbconvert_exporter": "python",
   "pygments_lexer": "ipython3",
   "version": "3.7.6"
  }
 },
 "nbformat": 4,
 "nbformat_minor": 1
}
