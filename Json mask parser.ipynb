{
  "nbformat": 4,
  "nbformat_minor": 0,
  "metadata": {
    "kernelspec": {
      "display_name": "Python 3",
      "language": "python",
      "name": "python3"
    },
    "language_info": {
      "codemirror_mode": {
        "name": "ipython",
        "version": 3
      },
      "file_extension": ".py",
      "mimetype": "text/x-python",
      "name": "python",
      "nbconvert_exporter": "python",
      "pygments_lexer": "ipython3",
      "version": "3.6.1"
    },
    "colab": {
      "name": "Json_parser_V2.ipynb",
      "provenance": [],
      "collapsed_sections": []
    }
  },
  "cells": [
    {
      "cell_type": "code",
      "metadata": {
        "id": "CABqZWA2Y3tO",
        "colab_type": "code",
        "colab": {}
      },
      "source": [
        "import cv2\n",
        "import csv\n",
        "import os\n",
        "import json\n",
        "import numpy as np"
      ],
      "execution_count": null,
      "outputs": []
    },
    {
      "cell_type": "code",
      "metadata": {
        "id": "74WgPW3WY3tW",
        "colab_type": "code",
        "colab": {}
      },
      "source": [
        "from copy import deepcopy"
      ],
      "execution_count": null,
      "outputs": []
    },
    {
      "cell_type": "code",
      "metadata": {
        "id": "Zc5RufN6Y3tb",
        "colab_type": "code",
        "colab": {}
      },
      "source": [
        "#load json file containing generated masks by Unet.\n",
        "\n",
        "path = '../Downloads/drexel project/unet/masks/generated masks Unet/export-2019-07-08T17_21_55.768Z.json'\n",
        "\n",
        "with open(path) as handle:\n",
        "    data = json.load(handle)"
      ],
      "execution_count": null,
      "outputs": []
    },
    {
      "cell_type": "code",
      "metadata": {
        "id": "e5YshASaY3tg",
        "colab_type": "code",
        "colab": {}
      },
      "source": [
        "# The output should be equal to the total number of labeled images.\n",
        "len(list_coord)"
      ],
      "execution_count": null,
      "outputs": []
    },
    {
      "cell_type": "code",
      "metadata": {
        "scrolled": true,
        "id": "4mLhdozzY3ti",
        "colab_type": "code",
        "colab": {}
      },
      "source": [
        "# Iterate through the cell object dictionary which contains lists of coordinates that will later be used to draw polygons\n",
        "list_coord= []\n",
        "# data[0] in the for loop iterates through coordinates of the first image. data[1], for example, iterates through coordinate\n",
        "# belonging to the second image\n",
        "\n",
        "iterator = -1\n",
        "\n",
        "for _ in range(len(data)):\n",
        "    try:\n",
        "        iterator += 1\n",
        "        for cell in data[iterator]['Label']['Cell']:\n",
        "            points = []\n",
        "            x_coord = 0\n",
        "            y_coord = 0\n",
        "            for point in cell['geometry']:\n",
        "                p = []\n",
        "                x_coord = point['x']\n",
        "                y_coord = point['y']\n",
        "                p.append(x_coord)\n",
        "                p.append(y_coord)\n",
        "                points.append(p)\n",
        "            list_coord.append(points)\n",
        "    except:\n",
        "        pass\n",
        "print(list_coord)"
      ],
      "execution_count": null,
      "outputs": []
    },
    {
      "cell_type": "code",
      "metadata": {
        "id": "Z4KSgkPgY3tm",
        "colab_type": "code",
        "colab": {},
        "outputId": "03edbe63-7396-4c87-da9c-0c156d825c0c"
      },
      "source": [
        "# The output should be equal to the total number of labeled cells.\n",
        "len(list_coord)"
      ],
      "execution_count": null,
      "outputs": [
        {
          "output_type": "execute_result",
          "data": {
            "text/plain": [
              "2226"
            ]
          },
          "metadata": {
            "tags": []
          },
          "execution_count": 4
        }
      ]
    },
    {
      "cell_type": "code",
      "metadata": {
        "id": "84aGyHTaY3to",
        "colab_type": "code",
        "colab": {}
      },
      "source": [
        "# Parse through the name of each picture to extract information like: Frame number, type of treatment, and amount.\n",
        "str_list = []\n",
        "iterator = -1\n",
        "for _ in range(len(data)):\n",
        "    iterator += 1\n",
        "    x = 0\n",
        "    x = data[iterator]['Labeled Data']\n",
        "    s = 0\n",
        "    s = x.split('_')\n",
        "    str_list.append(s)"
      ],
      "execution_count": null,
      "outputs": []
    },
    {
      "cell_type": "code",
      "metadata": {
        "id": "15HLeSUYY3tr",
        "colab_type": "code",
        "colab": {}
      },
      "source": [
        "# Useful data if/ when tracing a particular microscopy image is needed during the\n",
        "# analysis phase\n",
        "creator = []\n",
        "x =0\n",
        "n = -1\n",
        "for _ in range(len(data)):\n",
        "    n += 1\n",
        "    x = 0\n",
        "    x = data[n]['Created By']\n",
        "    # Actual names (other than my own) removed in this version of the code\n",
        "    # for privacy reasons\n",
        "    if x == 'NAME1':\n",
        "        x = 'Person1'\n",
        "    elif x == 'NAME2':\n",
        "        x = 'Person2'\n",
        "    elif x == 'NAME3':\n",
        "        x = 'Person3'\n",
        "    elif x == 'oomar573@gmail.com':\n",
        "        x = 'Omar'\n",
        "    print(x)\n",
        "    creator.append([x])"
      ],
      "execution_count": null,
      "outputs": []
    },
    {
      "cell_type": "code",
      "metadata": {
        "id": "1OIjjDvgY3tt",
        "colab_type": "code",
        "colab": {}
      },
      "source": [
        "# Convert each list of coordinates corresponding to one polygon into a list of arrays\n",
        "list_array = []\n",
        "array = 0\n",
        "\n",
        "for cell in list_coord:\n",
        "    array = 0\n",
        "    array = np.array(cell)\n",
        "    list_array.append(array)\n",
        "print(list_array)"
      ],
      "execution_count": null,
      "outputs": []
    },
    {
      "cell_type": "code",
      "metadata": {
        "id": "UbZ6SqpJY3tx",
        "colab_type": "code",
        "colab": {}
      },
      "source": [
        "l = []\n",
        "morph_data = []\n",
        "final_morph = []\n",
        "\n",
        "\n",
        "for polygon_array in list_array:\n",
        "    l = []\n",
        "    \n",
        "    area1 = 0\n",
        "    # Calculate area of each given cell \n",
        "    area1 = cv2.contourArea(polygon_array)\n",
        "    l.append(area1)\n",
        "    \n",
        "    perimeter = 0\n",
        "    # Calculate perimeter for each given cell\n",
        "    perimeter = cv2.arcLength(polygon_array,True)\n",
        "    l.append(perimeter)\n",
        "    \n",
        "    x, y, w, h = 0, 0, 0, 0\n",
        "    x,y,w,h = cv2.boundingRect(polygon_array)\n",
        "    aspect_ratio = 0\n",
        "    aspect_ratio = float(w)/h\n",
        "    l.append(aspect_ratio)\n",
        "    \n",
        "    area3 = 0\n",
        "    area3 = cv2.contourArea(polygon_array)\n",
        "    x,y,w,h = 0,0,0,0\n",
        "    x,y,w,h = cv2.boundingRect(polygon_array)\n",
        "    rect_area = 0\n",
        "    rect_area = w*h\n",
        "    extent = 0\n",
        "    extent = float(area3)/rect_area\n",
        "    l.append(extent)\n",
        "    \n",
        "    area = 0\n",
        "    equi_diameter = 0\n",
        "    area = cv2.contourArea(polygon_array)\n",
        "    equi_diameter = np.sqrt(4*area/np.pi)\n",
        "    l.append(equi_diameter)\n",
        "    \n",
        "    \n",
        "    morph_data.append(l)\n",
        "    \n",
        "\n",
        "    \n",
        "f = 0\n",
        "a = -1\n",
        "b = -1\n",
        "for _ in range(len(data)):\n",
        "    a += 1\n",
        "    f = 0\n",
        "    try:\n",
        "        f = 0\n",
        "        for _ in range(len(data[a]['Label']['Cell'])):\n",
        "            b +=1\n",
        "            f = 0\n",
        "            q = 0\n",
        "            v = 0\n",
        "            c = 0\n",
        "            q = creator[a]\n",
        "            v = str_list[a]\n",
        "            c = morph_data[b]\n",
        "            f = q + v + c \n",
        "            final_morph.append(f)\n",
        "    except:\n",
        "        pass"
      ],
      "execution_count": null,
      "outputs": []
    },
    {
      "cell_type": "code",
      "metadata": {
        "id": "vjIiFOC2Y3t1",
        "colab_type": "code",
        "colab": {},
        "outputId": "830d1231-fd98-4bd4-af54-c971bd4604fc"
      },
      "source": [
        "# Read a csv file that will be used to store morphological data into a data frame\n",
        "\n",
        "with open('cell data.csv', 'r') as f:\n",
        "    reader = csv.reader(f)\n",
        "    # read file row by row\n",
        "    for row in reader:\n",
        "        print (row)\n",
        "f.close()"
      ],
      "execution_count": null,
      "outputs": [
        {
          "output_type": "stream",
          "text": [
            "['ï»¿Cell Number', 'Labeled By', 'Treatment', 'Amount', 'Frame', 'Area', 'Perimeter', 'Aspect Ratio', 'Extent', 'Equivalent Diameter']\n"
          ],
          "name": "stdout"
        }
      ]
    },
    {
      "cell_type": "code",
      "metadata": {
        "id": "uz8tvTagY3t3",
        "colab_type": "code",
        "colab": {}
      },
      "source": [
        "# Write previously extracted and stored morphological data to the selected csv file\n",
        "with open('cell data.csv', 'w', newline='') as out:\n",
        "    writer = csv.writer(out)\n",
        "    #each row will correspond to all morphological data belonging to a single cell\n",
        "    n = -1\n",
        "    for w in final_morph:\n",
        "        writer.writerow(w)\n",
        "\n",
        "out.close()"
      ],
      "execution_count": null,
      "outputs": []
    }
  ]
}